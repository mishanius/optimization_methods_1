{
 "cells": [
  {
   "cell_type": "markdown",
   "metadata": {},
   "source": [
    "## 1.b\n",
    "First lets define our matrix:"
   ]
  },
  {
   "cell_type": "code",
   "execution_count": 29,
   "metadata": {},
   "outputs": [],
   "source": [
    "import numpy as np\n",
    "from scipy import linalg \n",
    "\n",
    "A = np.mat('[1 2 3 4;2 4 -4 8;-5 4 1 5;5 0 -3 -7]')"
   ]
  },
  {
   "cell_type": "markdown",
   "metadata": {},
   "source": [
    "Calculating A*A"
   ]
  },
  {
   "cell_type": "code",
   "execution_count": 31,
   "metadata": {},
   "outputs": [],
   "source": [
    "A_t_A = A.T.dot(A)"
   ]
  },
  {
   "cell_type": "markdown",
   "metadata": {},
   "source": [
    "Find eigen vectors, and calculate the square of each eigenvalue"
   ]
  },
  {
   "cell_type": "code",
   "execution_count": 42,
   "metadata": {},
   "outputs": [],
   "source": [
    "vals, vecs = linalg.eig(A_t_A)\n",
    "squared_vals = np.sqrt(vals)"
   ]
  },
  {
   "cell_type": "markdown",
   "metadata": {},
   "source": [
    "<p> Now we will take the vector corresponding to the largest eigenvalue (absolutly) multiply it with A and calculate the l2 norm of the result. </p>\n",
    "<em>We dont need to devide by |x| because scipy provided orthonormal eigenvectors</em>"
   ]
  },
  {
   "cell_type": "code",
   "execution_count": 48,
   "metadata": {},
   "outputs": [
    {
     "data": {
      "text/plain": [
       "13.858100376465325"
      ]
     },
     "execution_count": 48,
     "metadata": {},
     "output_type": "execute_result"
    }
   ],
   "source": [
    "linalg.norm(A.dot(vecs[:,0]))"
   ]
  },
  {
   "cell_type": "markdown",
   "metadata": {},
   "source": [
    "This is essentialy the same as:"
   ]
  },
  {
   "cell_type": "code",
   "execution_count": 47,
   "metadata": {},
   "outputs": [
    {
     "data": {
      "text/plain": [
       "(13.858100376465332+0j)"
      ]
     },
     "execution_count": 47,
     "metadata": {},
     "output_type": "execute_result"
    }
   ],
   "source": [
    "squared_vals[0]"
   ]
  },
  {
   "cell_type": "markdown",
   "metadata": {},
   "source": [
    "# 4.a\n",
    "First lets define our matrix:"
   ]
  },
  {
   "cell_type": "code",
   "execution_count": 67,
   "metadata": {},
   "outputs": [],
   "source": [
    "A = np.mat('[2 1 2;1 -2 1;1 2 3;1 1 1]')\n",
    "b = np.array([[6],[1],[5],[2]])\n"
   ]
  },
  {
   "cell_type": "markdown",
   "metadata": {},
   "source": [
    "Use cholescy to decompose matrix A^TA to R* (lower triangle) and R (upper triangle)"
   ]
  },
  {
   "cell_type": "code",
   "execution_count": 72,
   "metadata": {},
   "outputs": [],
   "source": [
    "R = linalg.cholesky(A.T.dot(A))\n",
    "R_star = R.T "
   ]
  },
  {
   "cell_type": "markdown",
   "metadata": {},
   "source": [
    "By definition of cholesky decomposition R got positive diagonal, so its full rank and invertible. \n",
    "We can invert the matrix or use scipy solve_triangular"
   ]
  },
  {
   "cell_type": "code",
   "execution_count": 79,
   "metadata": {},
   "outputs": [
    {
     "data": {
      "text/plain": [
       "array([[1.7],\n",
       "       [0.6],\n",
       "       [0.7]])"
      ]
     },
     "execution_count": 79,
     "metadata": {},
     "output_type": "execute_result"
    }
   ],
   "source": [
    "R_x = linalg.solve_triangular(R_star,A.T.dot(b), lower=True)\n",
    "x = linalg.solve_triangular(R,R_x)\n",
    "x"
   ]
  },
  {
   "cell_type": "markdown",
   "metadata": {},
   "source": [
    "# 4.b"
   ]
  },
  {
   "cell_type": "markdown",
   "metadata": {},
   "source": [
    "We know that QR factorization of $A$ leads us to:\n",
    "$$x = (R^TQ^TQR)^-\\cdot R^T\\cdot Q^T\\cdot b$$\n",
    "$$x = R^-\\cdot Q^T\\cdot b$$"
   ]
  },
  {
   "cell_type": "code",
   "execution_count": 86,
   "metadata": {},
   "outputs": [
    {
     "data": {
      "text/plain": [
       "array([[1.7],\n",
       "       [0.6],\n",
       "       [0.7]])"
      ]
     },
     "execution_count": 86,
     "metadata": {},
     "output_type": "execute_result"
    }
   ],
   "source": [
    "q, r = linalg.qr(A, mode='economic')\n",
    "x = linalg.inv(r).dot(q.T).dot(b)\n",
    "x"
   ]
  },
  {
   "cell_type": "markdown",
   "metadata": {},
   "source": [
    "We indeed recived the same answer!"
   ]
  },
  {
   "cell_type": "markdown",
   "metadata": {},
   "source": [
    "## Using SVD"
   ]
  },
  {
   "cell_type": "code",
   "execution_count": 100,
   "metadata": {},
   "outputs": [],
   "source": [
    "u, diag, v_t = linalg.svd(A, full_matrices=False)"
   ]
  },
  {
   "cell_type": "markdown",
   "metadata": {},
   "source": [
    "based on the lecture by decomposing A with svd the normal equation is: \n",
    "$\\Sigma \\cdot V^T \\cdot \\hat{x}= U^T b$ <br>\n",
    "We set $y=V^T \\cdot \\hat{x}$"
   ]
  },
  {
   "cell_type": "code",
   "execution_count": 101,
   "metadata": {},
   "outputs": [],
   "source": [
    "# np.diag(diag) turns diag into an actual diagonal matrix\n",
    "y = linalg.solve_triangular(np.diag(diag),u.T.dot(b))"
   ]
  },
  {
   "cell_type": "code",
   "execution_count": 106,
   "metadata": {},
   "outputs": [
    {
     "data": {
      "text/plain": [
       "array([[1.7],\n",
       "       [0.6],\n",
       "       [0.7]])"
      ]
     },
     "execution_count": 106,
     "metadata": {},
     "output_type": "execute_result"
    }
   ],
   "source": [
    "x = linalg.inv(v_t).dot(y)\n",
    "x"
   ]
  },
  {
   "cell_type": "markdown",
   "metadata": {},
   "source": [
    "# 4.c"
   ]
  },
  {
   "cell_type": "code",
   "execution_count": 111,
   "metadata": {},
   "outputs": [
    {
     "data": {
      "text/plain": [
       "matrix([[-6.0000000e-01],\n",
       "        [ 2.0000000e-01],\n",
       "        [ 8.8817842e-16],\n",
       "        [ 1.0000000e+00]])"
      ]
     },
     "execution_count": 111,
     "metadata": {},
     "output_type": "execute_result"
    }
   ],
   "source": [
    "r = A.dot(x) - b\n",
    "r"
   ]
  },
  {
   "cell_type": "code",
   "execution_count": 112,
   "metadata": {},
   "outputs": [
    {
     "data": {
      "text/plain": [
       "matrix([[-2.88657986e-15],\n",
       "        [-4.44089210e-16],\n",
       "        [-1.11022302e-15]])"
      ]
     },
     "execution_count": 112,
     "metadata": {},
     "output_type": "execute_result"
    }
   ],
   "source": [
    "A.T.dot(r)"
   ]
  },
  {
   "cell_type": "markdown",
   "metadata": {},
   "source": [
    "$A^Tr = A^T Ax - A^Tb$ which is the left side of the normal equation (when compared to zero). The normal equation is infact the derivitive of the LS. When we solve LS we try to find $x$ s.t the derivitive is zero. We had already proven that the normal equation got a solution so its obvius that if we had found some $x$ that satisfies the equation, once we use it we will get zero."
   ]
  },
  {
   "cell_type": "markdown",
   "metadata": {},
   "source": [
    "# 4.d\n",
    "We will set vector $w$ to be diagonal matrix of ones and $10^3$ in the upper left corner"
   ]
  },
  {
   "cell_type": "code",
   "execution_count": 120,
   "metadata": {},
   "outputs": [
    {
     "data": {
      "text/plain": [
       "array([[1000.,    0.,    0.,    0.],\n",
       "       [   0.,    1.,    0.,    0.],\n",
       "       [   0.,    0.,    1.,    0.],\n",
       "       [   0.,    0.,    0.,    1.]])"
      ]
     },
     "execution_count": 120,
     "metadata": {},
     "output_type": "execute_result"
    }
   ],
   "source": [
    "w= np.identity(4)\n",
    "w[0,0] = 10**3\n",
    "w"
   ]
  },
  {
   "cell_type": "markdown",
   "metadata": {},
   "source": [
    "We will use cholesky decomposition, similar to 4.a"
   ]
  },
  {
   "cell_type": "code",
   "execution_count": 133,
   "metadata": {},
   "outputs": [
    {
     "data": {
      "text/plain": [
       "array([[2.17244031],\n",
       "       [0.69218347],\n",
       "       [0.48106425]])"
      ]
     },
     "execution_count": 133,
     "metadata": {},
     "output_type": "execute_result"
    }
   ],
   "source": [
    "R = linalg.cholesky(A.T.dot(w).dot(A))\n",
    "R_star = R.T \n",
    "# solve equations represented by triangular matrix\n",
    "R_x = linalg.solve_triangular(R_star,A.T.dot(w).dot(b), lower=True)\n",
    "x = linalg.solve_triangular(R,R_x)\n",
    "x"
   ]
  },
  {
   "cell_type": "code",
   "execution_count": 131,
   "metadata": {},
   "outputs": [
    {
     "data": {
      "text/plain": [
       "matrix([[-8.07412819e-04],\n",
       "        [ 2.69137606e-01],\n",
       "        [ 6.03961325e-13],\n",
       "        [ 1.34568803e+00]])"
      ]
     },
     "execution_count": 131,
     "metadata": {},
     "output_type": "execute_result"
    }
   ],
   "source": [
    "r = A.dot(x) - b\n",
    "r"
   ]
  },
  {
   "cell_type": "markdown",
   "metadata": {},
   "source": [
    "we can see that indeed the firs coordinate is $10^3$ times smaller (absolutly) then the previous answer"
   ]
  }
 ],
 "metadata": {
  "kernelspec": {
   "display_name": "Python 3",
   "language": "python",
   "name": "python3"
  },
  "language_info": {
   "codemirror_mode": {
    "name": "ipython",
    "version": 3
   },
   "file_extension": ".py",
   "mimetype": "text/x-python",
   "name": "python",
   "nbconvert_exporter": "python",
   "pygments_lexer": "ipython3",
   "version": "3.8.5"
  }
 },
 "nbformat": 4,
 "nbformat_minor": 4
}
